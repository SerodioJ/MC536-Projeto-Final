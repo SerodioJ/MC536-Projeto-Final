{
 "cells": [
  {
   "cell_type": "markdown",
   "metadata": {},
   "source": [
    "# <center>Notebook para construção da tabela de países<center/>"
   ]
  },
  {
   "cell_type": "markdown",
   "metadata": {},
   "source": [
    "Bases de Dados utilizadas:\n",
    "* DBpedia\n",
    "* WHO GHO (Athena API)"
   ]
  },
  {
   "cell_type": "markdown",
   "metadata": {},
   "source": [
    "Bibliotecas"
   ]
  },
  {
   "cell_type": "code",
   "execution_count": 1,
   "metadata": {
    "id": "T4OgEQHF7viq"
   },
   "outputs": [],
   "source": [
    "import io\n",
    "import requests\n",
    "import json\n",
    "import pandas as pd\n",
    "import xml.dom.minidom as mdom"
   ]
  },
  {
   "cell_type": "markdown",
   "metadata": {},
   "source": [
    "### DBPedia (GINI, IDH e PIB per capita) e WHO GHO (nome, sigla, região, classficação do World Bank)"
   ]
  },
  {
   "cell_type": "code",
   "execution_count": 2,
   "metadata": {
    "id": "4MusoTwi8MdD"
   },
   "outputs": [],
   "source": [
    "# It returns a list of N countries in dimension N x  \n",
    "# GDB PPP per capita, Gini, HDI\n",
    "def getDataByCountry(countriesList):\n",
    "    out = []\n",
    "    notFound = []\n",
    "    missing_info = {}\n",
    "    requested_info = {'gini': 'http://dbpedia.org/property/gini', \n",
    "                     'gdpPppPerCapita': 'http://dbpedia.org/property/gdpPppPerCapita',\n",
    "                     'hdi': 'http://dbpedia.org/property/hdi', \n",
    "                     'populationTotal': 'http://dbpedia.org/ontology/populationTotal'}\n",
    "    for i in countriesList:\n",
    "        info = []\n",
    "        try:\n",
    "            url = 'http://dbpedia.org/data/' + str(i['country']) +  '.jsod'\n",
    "            js = requests.get(url).json()\n",
    "            for ri in requested_info:\n",
    "                if requested_info[ri] in js['d']['results'][0]:\n",
    "                    info.append(js['d']['results'][0][requested_info[ri]])\n",
    "                else:\n",
    "                    info.append('')\n",
    "                    if i['country'] in missing_info:\n",
    "                        missing_info[i['country']].append(ri)\n",
    "                    else:\n",
    "                         missing_info[i['country']] = [ri]\n",
    "            out.append({'country': i['country'].replace('_', ' '),\n",
    "                  'label': i['label'],\n",
    "                  'region': i['region'],\n",
    "                  'wb_class': i['wb_class'],\n",
    "                  'gdbPPPperCapita': info[1],\n",
    "                  'gini': round(float(info[0])*10) if info[0] != '' else info[0],\n",
    "                  'hdi': round(float(info[2])*1000) if info[2] != '' else info[2],\n",
    "                  'populationTotal': info[3]})\n",
    "        except:\n",
    "            print('We were not able to get %s!' %(i['country']))\n",
    "            notFound.append(i)\n",
    "    return out, notFound, missing_info"
   ]
  },
  {
   "cell_type": "code",
   "execution_count": 3,
   "metadata": {},
   "outputs": [],
   "source": [
    "#Return the index of an object in an array based on a field value\n",
    "def obj_index(array, field_name, value):\n",
    "    for i in range(len(array)):\n",
    "        if array[i][field_name] == value:\n",
    "            return i\n",
    "    return -1"
   ]
  },
  {
   "cell_type": "code",
   "execution_count": 4,
   "metadata": {
    "id": "KN3Rl3W48Mq0"
   },
   "outputs": [],
   "source": [
    "#XML search in DBpedia XML format to retrive missing information in the json format\n",
    "def XMLsearchData(partiallyFound, notFound, missingInfo):\n",
    "    count = 0\n",
    "    requested_info = {'gini': 'dbp:gini', \n",
    "                     'gdpPppPerCapita': 'dbp:gdpPppPerCapita',\n",
    "                     'hdi': 'dbp:hdi', \n",
    "                     'populationTotal': 'dbo:populationTotal'}\n",
    "    for country in notFound:\n",
    "        url = 'http://dbpedia.org/data/' + str(country['country']) + '.atom'\n",
    "        try:\n",
    "            xml = mdom.parseString(requests.get(url).content)\n",
    "            partiallyFound.append({\n",
    "                      'country': country['country'].replace('_', ' '),\n",
    "                      'label': country['label'],\n",
    "                      'region': country['region'],\n",
    "                      'wb_class': country['wb_class'],\n",
    "                      'gini': round(float(xml.getElementsByTagName('dbp:gini')[0].firstChild.nodeValue)*10) if len(xml.getElementsByTagName('dbp:gini')) > 0 else '',\n",
    "                      'gdbPPPperCapita': round(float(xml.getElementsByTagName('dbp:gdpPppPerCapita')[0].firstChild.nodeValue)) if len(xml.getElementsByTagName('dbp:gdpPppPerCapita')) > 0 else '',\n",
    "                      'hdi': round(float(xml.getElementsByTagName('dbp:hdi')[0].firstChild.nodeValue)*1000) if len(xml.getElementsByTagName('dbp:hdi')) > 0 else '',\n",
    "                      'populationTotal': round(float(xml.getElementsByTagName('dbo:populationTotal')[0].firstChild.nodeValue)) if len(xml.getElementsByTagName('dbo:populationTotal')) > 0 else ''\n",
    "                      })\n",
    "        except:\n",
    "            count+=1\n",
    "            partiallyFound.append({\n",
    "                  'country': country['country'].replace('_', ' '),\n",
    "                  'label': country['label'],\n",
    "                  'region': country['region'],\n",
    "                  'wb_class': country['wb_class'],\n",
    "                  'gini': '',\n",
    "                  'gdbPPPperCapita': '',\n",
    "                  'hdi': '',\n",
    "                  'populationTotal': ''\n",
    "                  })\n",
    "            print(country['country'] + ' not Found')\n",
    "    for country in missingInfo:\n",
    "        url = 'http://dbpedia.org/data/' + str(country) + '.atom'\n",
    "        try:\n",
    "            print('Trying to get missing information ({missing}) for {country}'.format(missing=missingInfo[country], country=country))\n",
    "            retrieved = 0\n",
    "            xml = mdom.parseString(requests.get(url).content)\n",
    "            index = obj_index(partiallyFound, 'country', country.replace('_', ' '))\n",
    "            for info in missingInfo[country]:\n",
    "                if len(xml.getElementsByTagName(requested_info[info])) > 0:\n",
    "                    retrieved += 1\n",
    "                    if info == 'gini':\n",
    "                        partiallyFound[index]['gini'] = round(float(xml.getElementsByTagName('dbp:gini')[0].firstChild.nodeValue)*10)\n",
    "                    elif info == 'hdi':\n",
    "                        partiallyFound[index]['hdi'] = round(float(xml.getElementsByTagName('dbp:hdi')[0].firstChild.nodeValue)*1000)\n",
    "                    else:\n",
    "                        partiallyFound[index][info] = round(float(xml.getElementsByTagName(missingInfo[info])[0].firstChild.nodeValue))\n",
    "            print(\"{}/{} filds were retrieved\".format(retrieved, len(missingInfo[country])))\n",
    "        except:\n",
    "            continue\n",
    "    return partiallyFound, count"
   ]
  },
  {
   "cell_type": "code",
   "execution_count": 5,
   "metadata": {
    "id": "JHtPvLs7Fv2-"
   },
   "outputs": [],
   "source": [
    "# Get list of countries used in WHO dataset\n",
    "def getCountriesList():\n",
    "    countriesList = []\n",
    "    url = 'https://apps.who.int/gho/athena/api/GHO/HIV_0000000026?format=json'\n",
    "    js = requests.get(url).json()\n",
    "    for i in js['dimension'][4]['code']:  \n",
    "        newCountry = i['display'].split('(')[0].replace(' ', '_')\n",
    "        if newCountry[len(newCountry) - 1] == '_': \n",
    "            countriesList.append({'country': newCountry[:-1], 'label': i['label'], 'region': i['attr'][obj_index(i['attr'], 'category', 'WHO_REGION')]['value'], 'wb_class': i['attr'][obj_index(i['attr'], 'category', 'WORLD_BANK_INCOME_GROUP')]['value']})\n",
    "        else:\n",
    "            countriesList.append({'country': newCountry, 'label': i['label'], 'region': i['attr'][obj_index(i['attr'], 'category', 'WHO_REGION')]['value'], 'wb_class': i['attr'][obj_index(i['attr'], 'category', 'WORLD_BANK_INCOME_GROUP')]['value']})\n",
    "    return countriesList"
   ]
  },
  {
   "cell_type": "code",
   "execution_count": 6,
   "metadata": {
    "colab": {
     "base_uri": "https://localhost:8080/"
    },
    "id": "2gGBMwsw8Miq",
    "outputId": "2daf45b7-dc71-436a-fb33-965068bfe3fd"
   },
   "outputs": [
    {
     "name": "stdout",
     "output_type": "stream",
     "text": [
      "We were not able to get Afghanistan!\n",
      "We were not able to get Albania!\n",
      "We were not able to get Belgium!\n",
      "We were not able to get Canada!\n",
      "We were not able to get Central_African_Republic!\n",
      "We were not able to get Djibouti!\n",
      "We were not able to get Ecuador!\n",
      "We were not able to get Eritrea!\n",
      "We were not able to get Ethiopia!\n",
      "We were not able to get Fiji!\n",
      "We were not able to get Guinea-Bissau!\n",
      "We were not able to get Guyana!\n",
      "We were not able to get Israel!\n",
      "We were not able to get Japan!\n",
      "We were not able to get Lesotho!\n",
      "We were not able to get Malawi!\n",
      "We were not able to get Malaysia!\n",
      "We were not able to get Mongolia!\n",
      "We were not able to get Spain!\n",
      "We were not able to get Sudan!\n",
      "We were not able to get Eswatini!\n",
      "We were not able to get Uzbekistan!\n"
     ]
    }
   ],
   "source": [
    "countriesList = getCountriesList();\n",
    "info, notFound, missingInfo = getDataByCountry(countriesList);"
   ]
  },
  {
   "cell_type": "code",
   "execution_count": 7,
   "metadata": {
    "colab": {
     "base_uri": "https://localhost:8080/"
    },
    "id": "Tl8m1nc_8Ml4",
    "outputId": "632ed0d7-b98f-49b8-9225-0931523d8ac4"
   },
   "outputs": [
    {
     "name": "stdout",
     "output_type": "stream",
     "text": [
      "Países encontrados: 148\n",
      "Países encontrados com informação faltando: 56\n",
      "Países não encontrados: 22\n"
     ]
    }
   ],
   "source": [
    "print(\"Países encontrados: {}\".format(len(info)))\n",
    "print(\"Países encontrados com informação faltando: {}\".format(len(missingInfo)))\n",
    "print(\"Países não encontrados: {}\".format(len(notFound)))"
   ]
  },
  {
   "cell_type": "code",
   "execution_count": 8,
   "metadata": {
    "colab": {
     "base_uri": "https://localhost:8080/"
    },
    "id": "qYc_6AlVeozQ",
    "outputId": "d8c56a8d-d1ec-4255-e2a5-4900b2c940e7"
   },
   "outputs": [
    {
     "name": "stdout",
     "output_type": "stream",
     "text": [
      "Afghanistan not Found\n",
      "Belgium not Found\n",
      "Canada not Found\n",
      "Ethiopia not Found\n",
      "Guyana not Found\n",
      "Japan not Found\n",
      "Malawi not Found\n",
      "Uzbekistan not Found\n",
      "Trying to get missing information (['populationTotal']) for Angola\n",
      "0/1 filds were retrieved\n",
      "Trying to get missing information (['populationTotal']) for Australia\n",
      "0/1 filds were retrieved\n",
      "Trying to get missing information (['gini', 'gdpPppPerCapita', 'hdi', 'populationTotal']) for Bahamas\n",
      "0/4 filds were retrieved\n",
      "Trying to get missing information (['gini']) for Bahrain\n",
      "0/1 filds were retrieved\n",
      "Trying to get missing information (['gini', 'populationTotal']) for Barbados\n",
      "0/2 filds were retrieved\n",
      "Trying to get missing information (['gini']) for Belize\n",
      "0/1 filds were retrieved\n",
      "Trying to get missing information (['populationTotal']) for Bosnia_and_Herzegovina\n",
      "0/1 filds were retrieved\n",
      "Trying to get missing information (['gini', 'gdpPppPerCapita', 'hdi', 'populationTotal']) for Botswana\n",
      "0/4 filds were retrieved\n",
      "Trying to get missing information (['gini', 'gdpPppPerCapita', 'hdi', 'populationTotal']) for Brunei_Darussalam\n",
      "0/4 filds were retrieved\n",
      "Trying to get missing information (['populationTotal']) for Bulgaria\n",
      "0/1 filds were retrieved\n",
      "Trying to get missing information (['gini', 'gdpPppPerCapita', 'hdi', 'populationTotal']) for Cabo_Verde\n",
      "0/4 filds were retrieved\n",
      "Trying to get missing information (['gini']) for Chad\n",
      "Trying to get missing information (['gini', 'gdpPppPerCapita', 'hdi', 'populationTotal']) for Congo\n",
      "0/4 filds were retrieved\n",
      "Trying to get missing information (['populationTotal']) for Costa_Rica\n",
      "0/1 filds were retrieved\n",
      "Trying to get missing information (['populationTotal']) for Cuba\n",
      "Trying to get missing information (['gini', 'gdpPppPerCapita', 'hdi', 'populationTotal']) for Czechia\n",
      "0/4 filds were retrieved\n",
      "Trying to get missing information (['gini', 'gdpPppPerCapita', 'hdi', 'populationTotal']) for Côte_d'Ivoire\n",
      "0/4 filds were retrieved\n",
      "Trying to get missing information (['gini', 'gdpPppPerCapita', 'hdi', 'populationTotal']) for Democratic_People's_Republic_of_Korea\n",
      "0/4 filds were retrieved\n",
      "Trying to get missing information (['gini']) for Equatorial_Guinea\n",
      "0/1 filds were retrieved\n",
      "Trying to get missing information (['gini', 'gdpPppPerCapita', 'hdi', 'populationTotal']) for Gambia\n",
      "0/4 filds were retrieved\n",
      "Trying to get missing information (['gini', 'gdpPppPerCapita', 'hdi', 'populationTotal']) for Georgia\n",
      "0/4 filds were retrieved\n",
      "Trying to get missing information (['populationTotal']) for Iceland\n",
      "Trying to get missing information (['gini', 'gdpPppPerCapita', 'hdi']) for Ireland\n",
      "0/3 filds were retrieved\n",
      "Trying to get missing information (['gini']) for Kuwait\n",
      "0/1 filds were retrieved\n",
      "Trying to get missing information (['gini', 'gdpPppPerCapita', 'hdi', 'populationTotal']) for Lao_People's_Democratic_Republic\n",
      "0/4 filds were retrieved\n",
      "Trying to get missing information (['gini']) for Lebanon\n",
      "0/1 filds were retrieved\n",
      "Trying to get missing information (['gini']) for Libya\n",
      "0/1 filds were retrieved\n",
      "Trying to get missing information (['populationTotal']) for Mali\n",
      "Trying to get missing information (['populationTotal']) for Morocco\n",
      "0/1 filds were retrieved\n",
      "Trying to get missing information (['gini', 'populationTotal']) for Myanmar\n",
      "0/2 filds were retrieved\n",
      "Trying to get missing information (['populationTotal']) for Namibia\n",
      "0/1 filds were retrieved\n",
      "Trying to get missing information (['populationTotal']) for Nepal\n",
      "Trying to get missing information (['populationTotal']) for New_Zealand\n",
      "0/1 filds were retrieved\n",
      "Trying to get missing information (['populationTotal']) for Nicaragua\n",
      "0/1 filds were retrieved\n",
      "Trying to get missing information (['populationTotal']) for Niger\n",
      "0/1 filds were retrieved\n",
      "Trying to get missing information (['gini']) for Oman\n",
      "0/1 filds were retrieved\n",
      "Trying to get missing information (['populationTotal']) for Philippines\n",
      "Trying to get missing information (['gini', 'gdpPppPerCapita', 'hdi', 'populationTotal']) for Republic_of_Korea\n",
      "0/4 filds were retrieved\n",
      "Trying to get missing information (['gini', 'gdpPppPerCapita', 'hdi', 'populationTotal']) for Republic_of_Moldova\n",
      "0/4 filds were retrieved\n",
      "Trying to get missing information (['gini', 'gdpPppPerCapita', 'hdi', 'populationTotal']) for Russian_Federation\n",
      "0/4 filds were retrieved\n",
      "Trying to get missing information (['gini']) for Saudi_Arabia\n",
      "0/1 filds were retrieved\n",
      "Trying to get missing information (['populationTotal']) for Sierra_Leone\n",
      "Trying to get missing information (['gini', 'hdi']) for Somalia\n",
      "0/2 filds were retrieved\n",
      "Trying to get missing information (['populationTotal']) for Sri_Lanka\n",
      "0/1 filds were retrieved\n",
      "Trying to get missing information (['gini', 'gdpPppPerCapita', 'hdi', 'populationTotal']) for Syrian_Arab_Republic\n",
      "0/4 filds were retrieved\n",
      "Trying to get missing information (['gini', 'gdpPppPerCapita', 'hdi', 'populationTotal']) for North_Macedonia\n",
      "0/4 filds were retrieved\n",
      "Trying to get missing information (['gini', 'gdpPppPerCapita', 'hdi', 'populationTotal']) for Timor-Leste\n",
      "0/4 filds were retrieved\n",
      "Trying to get missing information (['populationTotal']) for Turkey\n",
      "Trying to get missing information (['gini', 'gdpPppPerCapita', 'hdi', 'populationTotal']) for Uganda\n",
      "Trying to get missing information (['gini', 'gdpPppPerCapita', 'hdi', 'populationTotal']) for United_Kingdom_of_Great_Britain_and_Northern_Ireland\n",
      "0/4 filds were retrieved\n",
      "Trying to get missing information (['gini', 'gdpPppPerCapita', 'hdi', 'populationTotal']) for United_Republic_of_Tanzania\n",
      "0/4 filds were retrieved\n",
      "Trying to get missing information (['gini', 'gdpPppPerCapita', 'hdi', 'populationTotal']) for United_States_of_America\n",
      "0/4 filds were retrieved\n",
      "Trying to get missing information (['populationTotal']) for Venezuela\n",
      "0/1 filds were retrieved\n",
      "Trying to get missing information (['gini', 'gdpPppPerCapita', 'hdi', 'populationTotal']) for Viet_Nam\n",
      "0/4 filds were retrieved\n",
      "Trying to get missing information (['gini']) for Yemen\n",
      "0/1 filds were retrieved\n",
      "Trying to get missing information (['populationTotal']) for Montenegro\n"
     ]
    }
   ],
   "source": [
    "xmlResul, noInfo = XMLsearchData(info, notFound, missingInfo)"
   ]
  },
  {
   "cell_type": "code",
   "execution_count": 9,
   "metadata": {},
   "outputs": [
    {
     "name": "stdout",
     "output_type": "stream",
     "text": [
      "Total de países registrados: 170\n",
      "Países sem nenhuma informação: 8\n"
     ]
    }
   ],
   "source": [
    "print('Total de países registrados: {}'.format(len(xmlResul)))\n",
    "print('Países sem nenhuma informação: {}'.format(noInfo))"
   ]
  },
  {
   "cell_type": "markdown",
   "metadata": {
    "id": "he8tXXL5rVHN"
   },
   "source": [
    "## Exportação para CSV"
   ]
  },
  {
   "cell_type": "code",
   "execution_count": 11,
   "metadata": {
    "id": "0un7Z1OYrVLv"
   },
   "outputs": [],
   "source": [
    "df = pd.DataFrame(xmlResul,columns=['country', 'label', 'region', 'wb_class', 'gini', 'gdbPPPperCapita', 'hdi', 'populationTotal'])"
   ]
  },
  {
   "cell_type": "code",
   "execution_count": 12,
   "metadata": {
    "id": "Q-Ini-yRrVCb"
   },
   "outputs": [],
   "source": [
    "df.to_csv('../../data/processed/countries.csv', index=False)"
   ]
  },
  {
   "cell_type": "code",
   "execution_count": null,
   "metadata": {},
   "outputs": [],
   "source": []
  }
 ],
 "metadata": {
  "colab": {
   "name": "getDataFromGraph.ipynb",
   "provenance": []
  },
  "kernelspec": {
   "display_name": "Python 3",
   "language": "python",
   "name": "python3"
  },
  "language_info": {
   "codemirror_mode": {
    "name": "ipython",
    "version": 3
   },
   "file_extension": ".py",
   "mimetype": "text/x-python",
   "name": "python",
   "nbconvert_exporter": "python",
   "pygments_lexer": "ipython3",
   "version": "3.8.5"
  },
  "toc": {
   "base_numbering": 1,
   "nav_menu": {},
   "number_sections": false,
   "sideBar": false,
   "skip_h1_title": false,
   "title_cell": "Table of Contents",
   "title_sidebar": "Contents",
   "toc_cell": false,
   "toc_position": {},
   "toc_section_display": false,
   "toc_window_display": false
  }
 },
 "nbformat": 4,
 "nbformat_minor": 1
}
