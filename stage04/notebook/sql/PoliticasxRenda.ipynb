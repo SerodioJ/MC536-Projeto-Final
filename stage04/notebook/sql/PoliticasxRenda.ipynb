{
 "cells": [
  {
   "cell_type": "code",
   "execution_count": 1,
   "metadata": {},
   "outputs": [],
   "source": [
    "%defaultDatasource jdbc:h2:mem:db"
   ]
  },
  {
   "cell_type": "code",
   "execution_count": 2,
   "metadata": {},
   "outputs": [],
   "source": [
    "DROP TABLE IF EXISTS Pais;\n",
    "CREATE TABLE Pais (\n",
    "    nome VARCHAR(60),            -- eliminar ambiguidade!\n",
    "    sigla VARCHAR(3) NOT NULL,\n",
    "    regiao VARCHAR(30),\n",
    "    classificacaoRenda VARCHAR(30),\n",
    "    Gini INTEGER,\n",
    "    PIBperCapita DOUBLE,\n",
    "    IDH INTEGER,\n",
    "    populacao INTEGER,\n",
    "    PRIMARY KEY(sigla)\n",
    ") AS SELECT\n",
    "    country,\n",
    "    label,\n",
    "    region,\n",
    "    wb_class,\n",
    "    gini,\n",
    "    gdbPPPperCapita,\n",
    "    hdi,\n",
    "    populationTotal\n",
    "FROM CSVREAD('../../data/processed/countries.csv');\n",
    "\n",
    "DROP TABLE IF EXISTS Policies;\n",
    "CREATE TABLE Policies (\n",
    "    id VARCHAR(4) NOT NULL,\n",
    "    policy VARCHAR(150) NOT NULL,\n",
    "    type VARCHAR(12),\n",
    "    PRIMARY KEY(id)\n",
    ") AS SELECT\n",
    "    id,\n",
    "    policy,\n",
    "    type\n",
    "FROM CSVREAD('../../data/processed/policies.csv');\n",
    "\n",
    "DROP TABLE IF EXISTS CountryPolicies;\n",
    "CREATE TABLE CountryPolicies (\n",
    "    country VARCHAR(60) NOT NULL,\n",
    "    policyId VARCHAR(4) NOT NULL,\n",
    "    isNumeric BOOL NOT NULL,\n",
    "    value VARCHAR(100),\n",
    "    numericValue INTEGER,\n",
    "    PRIMARY KEY(country, policyId)\n",
    ") AS SELECT\n",
    "    country ,\n",
    "    policyId,\n",
    "    isNumeric,\n",
    "    value,\n",
    "    numericValue\n",
    "type\n",
    "FROM CSVREAD('../../data/processed/country_policies.csv');"
   ]
  },
  {
   "cell_type": "code",
   "execution_count": 21,
   "metadata": {},
   "outputs": [
    {
     "data": {
      "application/vnd.jupyter.widget-view+json": {
       "model_id": "f25f1595-2a9c-4335-840b-1beae18cf9a7",
       "version_major": 2,
       "version_minor": 0
      },
      "method": "display_data"
     },
     "metadata": {},
     "output_type": "display_data"
    },
    {
     "data": {
      "application/vnd.jupyter.widget-view+json": {
       "model_id": "c76ceaf3-c0ee-438d-a56f-685384b04edf",
       "version_major": 2,
       "version_minor": 0
      },
      "method": "display_data"
     },
     "metadata": {},
     "output_type": "display_data"
    }
   ],
   "source": [
    "DROP VIEW IF EXISTS PoliticasRenda;\n",
    "DROP VIEW IF EXISTS PoliticasPaises;\n",
    "CREATE VIEW PoliticasPaises AS\n",
    "SELECT Pais.nome nome, Pais.classificacaoRenda renda, COUNT (*) politicas\n",
    "    FROM Pais JOIN CountryPolicies CP ON Pais.nome = CP.country\n",
    "    WHERE CP.isNumeric = False AND\n",
    "          CP.value <> 'No'\n",
    "    GROUP BY Pais.nome;\n",
    "    \n",
    "CREATE VIEW PoliticasRenda AS\n",
    "SELECT P1.renda, SUM(P1.politicas)/(SELECT COUNT(*) FROM PoliticasPaises P2 WHERE P2.politicas <> 0 AND P2.renda = p1.renda) Media_Politicas\n",
    "    FROM PoliticasPaises P1\n",
    "    WHERE P1.politicas <> 0\n",
    "    GROUP BY P1.renda;\n",
    "CALL CSVWRITE('../../saida/politicas-x-renda.csv', 'SELECT * FROM PoliticasRenda');\n",
    "SELECT * FROM PoliticasRenda;"
   ]
  },
  {
   "cell_type": "code",
   "execution_count": null,
   "metadata": {},
   "outputs": [],
   "source": []
  }
 ],
 "metadata": {
  "kernelspec": {
   "display_name": "SQL",
   "language": "SQL",
   "name": "sql"
  },
  "language_info": {
   "codemirror_mode": "sql",
   "file_extension": ".sql",
   "mimetype": "",
   "name": "SQL",
   "nbconverter_exporter": "",
   "version": ""
  },
  "toc": {
   "base_numbering": 1,
   "nav_menu": {},
   "number_sections": false,
   "sideBar": false,
   "skip_h1_title": false,
   "title_cell": "Table of Contents",
   "title_sidebar": "Contents",
   "toc_cell": false,
   "toc_position": {},
   "toc_section_display": false,
   "toc_window_display": false
  }
 },
 "nbformat": 4,
 "nbformat_minor": 4
}
