{
 "cells": [
  {
   "cell_type": "code",
   "execution_count": 2,
   "metadata": {},
   "outputs": [],
   "source": [
    "%defaultDatasource jdbc:h2:file:~/database/socioeco"
   ]
  },
  {
   "cell_type": "code",
   "execution_count": 3,
   "metadata": {},
   "outputs": [],
   "source": [
    "DROP TABLE IF EXISTS Pais;\n",
    "\n",
    "CREATE TABLE Pais(\n",
    "    nome VARCHAR(60) NOT NULL,\n",
    "    PIBperCapita INTEGER,       -- Rounded\n",
    "    GINI INTEGER,               -- x10 and rounded\n",
    "    IDH INTEGER,                -- x1000 and rounded\n",
    "    PRIMARY KEY(nome)\n",
    ");"
   ]
  },
  {
   "cell_type": "code",
   "execution_count": 4,
   "metadata": {},
   "outputs": [],
   "source": [
    "  INSERT INTO Pais VALUES('Algeria', 14610, 353, 736);  \n",
    "  INSERT INTO Pais VALUES('Angola', 7501, 427, 532);  \n",
    "  INSERT INTO Pais VALUES('Argentina', 22554, 423, 836);  \n",
    "  INSERT INTO Pais VALUES('Armenia', 8468, 315, 733);  \n",
    "  INSERT INTO Pais VALUES('Australia', 47318, 336, 935);  \n",
    "  INSERT INTO Pais VALUES('Austria', 48098, 276, 885);  \n",
    "  INSERT INTO Pais VALUES('Azerbaijan', 17500, 337, 751);  \n",
    "  INSERT INTO Pais VALUES('Bangladesh', 3581, 321, 570);  \n",
    "  INSERT INTO Pais VALUES('Belarus', 17440, 265, 798);  \n",
    "  INSERT INTO Pais VALUES('Benin', 2025, 365, 480);  \n",
    "  INSERT INTO Pais VALUES('Bhutan', 8196, 387, 605);  \n",
    "  INSERT INTO Pais VALUES('Bolivia', 6650, 466, 662);  \n",
    "  INSERT INTO Pais VALUES('Bosnia and Herzegovina', 11647, 362, 733);  \n",
    "  INSERT INTO Pais VALUES('Brazil', 15048, 519, 755);  \n",
    "  INSERT INTO Pais VALUES('Bulgaria', 19839, 370, 782);  \n",
    "  INSERT INTO Pais VALUES('Burkina Faso', 1777, 395, 402);  \n",
    "  INSERT INTO Pais VALUES('Burundi', 834, 330, 400);  \n",
    "  INSERT INTO Pais VALUES('Cambodia', 3476, 318, 555);  \n",
    "  INSERT INTO Pais VALUES('Cameroon', 3246, 446, 512);  \n",
    "  INSERT INTO Pais VALUES('Chile', 25415, 503, 832);  \n",
    "  INSERT INTO Pais VALUES('China', 15095, 462, 727);  \n",
    "  INSERT INTO Pais VALUES('Colombia', 14171, 522, 720);  \n",
    "  INSERT INTO Pais VALUES('Comoros', 1523, 643, 503);  \n",
    "  INSERT INTO Pais VALUES('Costa Rica', 15365, 407, 766);  \n",
    "  INSERT INTO Pais VALUES('Croatia', 23171, 302, 818);  \n",
    "  INSERT INTO Pais VALUES('Cuba', 20649, 380, 769);  \n",
    "  INSERT INTO Pais VALUES('Cyprus', 30882, 291, 850);  \n",
    "  INSERT INTO Pais VALUES('Democratic Republic of the Congo', 816, 444, 433);  \n",
    "  INSERT INTO Pais VALUES('Denmark', 46976, 275, 923);  \n",
    "  INSERT INTO Pais VALUES('Dominican Republic', 15777, 471, 715);  \n",
    "  INSERT INTO Pais VALUES('Egypt', 11849, 308, 690);  \n",
    "  INSERT INTO Pais VALUES('El Salvador', 8668, 435, 686);  \n",
    "  INSERT INTO Pais VALUES('Estonia', 29501, 329, 861);  \n",
    "  INSERT INTO Pais VALUES('Finland', 42654, 256, 883);  \n",
    "  INSERT INTO Pais VALUES('France', 41181, 301, 888);  \n",
    "  INSERT INTO Pais VALUES('Gabon', 22400, 415, 684);  \n",
    "  INSERT INTO Pais VALUES('Germany', 47033, 307, 916);  \n",
    "  INSERT INTO Pais VALUES('Ghana', 4390, 428, 579);  \n",
    "  INSERT INTO Pais VALUES('Greece', 26606, 342, 865);  \n",
    "  INSERT INTO Pais VALUES('Guatemala', 7680, 551, 627);  \n",
    "  INSERT INTO Pais VALUES('Guinea', 1281, 703, 412);  \n",
    "  INSERT INTO Pais VALUES('Haiti', 1849, 608, 483);  \n",
    "  INSERT INTO Pais VALUES('Honduras', 4959, 553, 606);  \n",
    "  INSERT INTO Pais VALUES('Hungary', 26941, 279, 828);  \n",
    "  INSERT INTO Pais VALUES('Iceland', 44575, 240, 899);  \n",
    "  INSERT INTO Pais VALUES('India', 6664, 339, 609);  \n",
    "  INSERT INTO Pais VALUES('Indonesia', 11633, 356, 684);  \n",
    "  INSERT INTO Pais VALUES('Iran', 12833, 374, 766);  \n",
    "  INSERT INTO Pais VALUES('Italy', 36191, 327, 873);  \n",
    "  INSERT INTO Pais VALUES('Jamaica', 8991, 455, 719);  \n",
    "  INSERT INTO Pais VALUES('Jordan', 12162, 354, 748);  \n",
    "  INSERT INTO Pais VALUES('Kazakhstan', 24143, 264, 788);  \n",
    "  INSERT INTO Pais VALUES('Kenya', 3245, 425, 548);  \n",
    "  INSERT INTO Pais VALUES('Kyrgyzstan', 3363, 274, 655);  \n",
    "  INSERT INTO Pais VALUES('Latvia', 25740, 352, 819);  \n",
    "  INSERT INTO Pais VALUES('Liberia', 881, 382, 430);  \n",
    "  INSERT INTO Pais VALUES('Lithuania', 29881, 379, 839);  \n",
    "  INSERT INTO Pais VALUES('Luxembourg', 100991, 287, 892);  \n",
    "  INSERT INTO Pais VALUES('Madagascar', 1510, 441, 510);  \n",
    "  INSERT INTO Pais VALUES('Maldives', 13954, 374, 706);  \n",
    "  INSERT INTO Pais VALUES('Mali', 1843, 330, 407);  \n",
    "  INSERT INTO Pais VALUES('Malta', 33215, 277, 839);  \n",
    "  INSERT INTO Pais VALUES('Mauritania', 4287, 405, 506);  \n",
    "  INSERT INTO Pais VALUES('Mauritius', 18728, 359, 777);  \n",
    "  INSERT INTO Pais VALUES('Mexico', 18857, 481, 756);  \n",
    "  INSERT INTO Pais VALUES('Morocco', 8194, 409, 628);  \n",
    "  INSERT INTO Pais VALUES('Mozambique', 1327, 457, 416);  \n",
    "  INSERT INTO Pais VALUES('Namibia', 11786, 597, 628);  \n",
    "  INSERT INTO Pais VALUES('Nepal', 2573, 328, 548);  \n",
    "  INSERT INTO Pais VALUES('Netherlands', 50339, 262, 922);  \n",
    "  INSERT INTO Pais VALUES('New Zealand', 36950, 330, 913);  \n",
    "  INSERT INTO Pais VALUES('Nicaragua', 4972, 457, 631);  \n",
    "  INSERT INTO Pais VALUES('Niger', 1111, 315, 348);  \n",
    "  INSERT INTO Pais VALUES('Nigeria', 6351, 430, 514);  \n",
    "  INSERT INTO Pais VALUES('Norway', 70066, 235, 944);  \n",
    "  INSERT INTO Pais VALUES('Pakistan', 5084, 300, 538);  \n",
    "  INSERT INTO Pais VALUES('Panama', 20512, 519, 780);  \n",
    "  INSERT INTO Pais VALUES('Papua New Guinea', 2834, 509, 505);  \n",
    "  INSERT INTO Pais VALUES('Paraguay', 8905, 482, 679);  \n",
    "  INSERT INTO Pais VALUES('Peru', 12638, 447, 734);  \n",
    "  INSERT INTO Pais VALUES('Philippines', 7612, 460, 668);  \n",
    "  INSERT INTO Pais VALUES('Poland', 27654, 327, 843);  \n",
    "  INSERT INTO Pais VALUES('Portugal', 28476, 342, 830);  \n",
    "  INSERT INTO Pais VALUES('Qatar', 145894, 411, 850);  \n",
    "  INSERT INTO Pais VALUES('Romania', 22319, 340, 793);  \n",
    "  INSERT INTO Pais VALUES('Rwanda', 1784, 513, 483);  \n",
    "  INSERT INTO Pais VALUES('Senegal', 2525, 403, 485);  \n",
    "  INSERT INTO Pais VALUES('Serbia', 14938, 380, 771);  \n",
    "  INSERT INTO Pais VALUES('Sierra Leone', 1534, 354, 413);  \n",
    "  INSERT INTO Pais VALUES('Singapore', 82762, 464, 912);  \n",
    "  INSERT INTO Pais VALUES('Slovakia', 29209, 261, 844);  \n",
    "  INSERT INTO Pais VALUES('Slovenia', 32027, 250, 880);  \n",
    "  INSERT INTO Pais VALUES('South Africa', 13321, 631, 666);  \n",
    "  INSERT INTO Pais VALUES('Sri Lanka', 11189, 364, 757);  \n",
    "  INSERT INTO Pais VALUES('Suriname', 16623, 529, 714);  \n",
    "  INSERT INTO Pais VALUES('Sweden', 47319, 254, 907);  \n",
    "  INSERT INTO Pais VALUES('Switzerland', 59150, 285, 930);  \n",
    "  INSERT INTO Pais VALUES('Tajikistan', 2247, 308, 624);  \n",
    "  INSERT INTO Pais VALUES('Thailand', 16706, 394, 726);  \n",
    "  INSERT INTO Pais VALUES('Togo', 1567, 460, 473);  \n",
    "  INSERT INTO Pais VALUES('Trinidad and Tobago', 32432, 390, 772);  \n",
    "  INSERT INTO Pais VALUES('Tunisia', 11651, 361, 721);  \n",
    "  INSERT INTO Pais VALUES('Turkey', 21198, 400, 761);  \n",
    "  INSERT INTO Pais VALUES('Turkmenistan', 17072, 408, 688);  \n",
    "  INSERT INTO Pais VALUES('Ukraine', 8230, 246, 747);  \n",
    "  INSERT INTO Pais VALUES('United Arab Emirates', 67616, 360, 835);  \n",
    "  INSERT INTO Pais VALUES('Uruguay', 21944, 419, 793);  \n",
    "  INSERT INTO Pais VALUES('Venezuela', 15251, 448, 762);  \n",
    "  INSERT INTO Pais VALUES('Zambia', 3917, 575, 586);  \n",
    "  INSERT INTO Pais VALUES('Zimbabwe', 2133, 501, 509);  \n",
    "  INSERT INTO Pais VALUES('Montenegro', 16654, 262, 802);  \n",
    "  INSERT INTO Pais VALUES('South Sudan', 1886, 455, 467);  \n",
    "  INSERT INTO Pais VALUES('Albania', 12484, 345, 733);  \n",
    "  INSERT INTO Pais VALUES('Central African Republic', 668, 563, 350);  \n",
    "  INSERT INTO Pais VALUES('Djibouti', 3351, 400, 470);  \n",
    "  INSERT INTO Pais VALUES('Ecuador', 11788, 466, 732);  \n",
    "  INSERT INTO Pais VALUES('Fiji', 9314, 428, 727);  \n",
    "  INSERT INTO Pais VALUES('Guinea-Bissau', 1561, 350, 396);  \n",
    "  INSERT INTO Pais VALUES('Israel', 34336, 428, 894);  \n",
    "  INSERT INTO Pais VALUES('Lesotho', 3133, 542, 486);  \n",
    "  INSERT INTO Pais VALUES('Malaysia', 25833, 462, 779);  \n",
    "  INSERT INTO Pais VALUES('Mongolia', 11024, 365, 727);  \n",
    "  INSERT INTO Pais VALUES('Spain', 36143, 337, 876);  \n",
    "  INSERT INTO Pais VALUES('Sudan', 4834, 353, 473);  "
   ]
  },
  {
   "cell_type": "code",
   "execution_count": 5,
   "metadata": {},
   "outputs": [
    {
     "data": {
      "text/plain": [
       "124"
      ]
     },
     "execution_count": 5,
     "metadata": {},
     "output_type": "execute_result"
    }
   ],
   "source": [
    "SELECT Count(*) FROM Pais"
   ]
  },
  {
   "cell_type": "code",
   "execution_count": 6,
   "metadata": {},
   "outputs": [],
   "source": [
    "-- Paises adicionados manualmente devido à errro de formatação do arquivo xml e do json\n",
    "-- ou nome do pais nao foi encontrado (acentuação ou nome oficial não é usado na url)\n",
    "-- ou falta campos como o Gini ou o IDH\n",
    "\n",
    "--INSERT INTO Pais VALUES('Nome', PIB per capita PPP, 10*Gini, 1000*IDH)\n",
    "\n",
    "INSERT INTO Pais VALUES('Afghanistan', 2024, 278, 496);\n",
    "INSERT INTO Pais VALUES('Bahamas', 33494, 0, 805);\n",
    "INSERT INTO Pais VALUES('Bahrain', 52129, 0, 838);\n",
    "INSERT INTO Pais VALUES('Barbados', 18798, 0, 813);\n",
    "INSERT INTO Pais VALUES('Belgium', 48224, 256, 919);\n",
    "INSERT INTO Pais VALUES('Belize', 9576, 531, 720);\n",
    "INSERT INTO Pais VALUES('Botswana', 18654, 533, 728);\n",
    "INSERT INTO Pais VALUES('Brunei', 85011, 0, 845);\n",
    "INSERT INTO Pais VALUES('Canada', 52144, 310, 922);\n",
    "INSERT INTO Pais VALUES('Cabo Verde', 7728, 472, 651);\n",
    "INSERT INTO Pais VALUES('Chad', 2428, 433, 401);\n",
    "INSERT INTO Pais VALUES('Congo', 0, 0, 0); --Qual Congo?\n",
    "INSERT INTO Pais VALUES('Czechia', 40585, 240, 891);\n",
    "INSERT INTO Pais VALUES('Côte_dIvoire', 5360, 415, 516);\n",
    "INSERT INTO Pais VALUES('Democratic Peoples Republic of Korea', 1800, 0, 0);\n",
    "INSERT INTO Pais VALUES('Equatorial Guinea', 21442, 0, 588);\n",
    "INSERT INTO Pais VALUES('Eritrea', 1797, 0, 434);\n",
    "INSERT INTO Pais VALUES('Ethiopia', 2701, 336, 470);\n",
    "INSERT INTO Pais VALUES('Gambia', 1686, 359, 466);\n",
    "INSERT INTO Pais VALUES('Georgia', 12409, 364, 786);\n",
    "INSERT INTO Pais VALUES('Guyana', 17359, 0, 670);\n",
    "INSERT INTO Pais VALUES('Ireland', 0, 0, 0); -- Informações não encontradas na wikipedia\n",
    "INSERT INTO Pais VALUES('Japan', 43194, 339, 915);\n",
    "INSERT INTO Pais VALUES('Kuwait', 67891, 0, 808);\n",
    "INSERT INTO Pais VALUES('Lao Peoples Democratic Republic', 8458, 364, 604);\n",
    "INSERT INTO Pais VALUES('Lebanon', 11562, 507, 730);\n",
    "INSERT INTO Pais VALUES('Lybia', 4746, 0, 708);\n",
    "INSERT INTO Pais VALUES('Malawi', 1234, 439, 485);\n",
    "INSERT INTO Pais VALUES('Myanmar', 6707, 381, 584);\n",
    "INSERT INTO Pais VALUES('Oman', 47366, 0, 834);\n",
    "INSERT INTO Pais VALUES('Republic of Korea', 44292, 357, 906);\n",
    "INSERT INTO Pais VALUES('Republic of Moldova', 13574, 268, 711);\n",
    "INSERT INTO Pais VALUES('Russian Federation', 28184, 375, 824);\n",
    "INSERT INTO Pais VALUES('Saudi Arabia', 56817, 459, 857);\n",
    "INSERT INTO Pais VALUES('Somalia', 888, 0, 351);\n",
    "INSERT INTO Pais VALUES('Eswatini', 11089, 495, 608);\n",
    "INSERT INTO Pais VALUES('Syrian Arab Republic', 2900, 558, 549);\n",
    "INSERT INTO Pais VALUES('North Macedonia', 6143, 319, 759);\n",
    "INSERT INTO Pais VALUES('Timor-Leste', 5561, 0, 626);\n",
    "INSERT INTO Pais VALUES('Uganda', 2566, 410, 528);\n",
    "INSERT INTO Pais VALUES('United Kingdom of Great Britain and Northern Ireland', 46827, 335, 920);\n",
    "INSERT INTO Pais VALUES('United Republic of Tanzania', 3574, 378, 528);\n",
    "INSERT INTO Pais VALUES('United States of America', 63051, 485, 920);\n",
    "INSERT INTO Pais VALUES('Uzbekistan', 9595, 367, 710);\n",
    "INSERT INTO Pais VALUES('Viet Nam', 8066, 376, 693);\n",
    "INSERT INTO Pais VALUES('Yemen', 2380, 367, 463);"
   ]
  },
  {
   "cell_type": "code",
   "execution_count": 7,
   "metadata": {},
   "outputs": [
    {
     "data": {
      "application/vnd.jupyter.widget-view+json": {
       "model_id": "41b5b565-1e30-4beb-b7d7-8ed570972e77",
       "version_major": 2,
       "version_minor": 0
      },
      "method": "display_data"
     },
     "metadata": {},
     "output_type": "display_data"
    }
   ],
   "source": [
    "SELECT * FROM Pais WHERE nome='Côte_dIvoire'"
   ]
  },
  {
   "cell_type": "code",
   "execution_count": 8,
   "metadata": {},
   "outputs": [
    {
     "data": {
      "text/plain": [
       "170"
      ]
     },
     "execution_count": 8,
     "metadata": {},
     "output_type": "execute_result"
    }
   ],
   "source": [
    "SELECT COUNT(*) FROM Pais"
   ]
  },
  {
   "cell_type": "code",
   "execution_count": null,
   "metadata": {},
   "outputs": [],
   "source": []
  },
  {
   "cell_type": "code",
   "execution_count": null,
   "metadata": {},
   "outputs": [],
   "source": []
  },
  {
   "cell_type": "code",
   "execution_count": null,
   "metadata": {},
   "outputs": [],
   "source": []
  },
  {
   "cell_type": "code",
   "execution_count": null,
   "metadata": {},
   "outputs": [],
   "source": []
  }
 ],
 "metadata": {
  "kernelspec": {
   "display_name": "SQL",
   "language": "SQL",
   "name": "sql"
  },
  "language_info": {
   "codemirror_mode": "sql",
   "file_extension": ".sql",
   "mimetype": "",
   "name": "SQL",
   "nbconverter_exporter": "",
   "version": ""
  },
  "toc": {
   "base_numbering": 1,
   "nav_menu": {},
   "number_sections": false,
   "sideBar": false,
   "skip_h1_title": false,
   "title_cell": "Table of Contents",
   "title_sidebar": "Contents",
   "toc_cell": false,
   "toc_position": {},
   "toc_section_display": false,
   "toc_window_display": false
  }
 },
 "nbformat": 4,
 "nbformat_minor": 4
}
