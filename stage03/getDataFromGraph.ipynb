{
  "nbformat": 4,
  "nbformat_minor": 0,
  "metadata": {
    "colab": {
      "name": "getDataFromGraph.ipynb",
      "provenance": []
    },
    "kernelspec": {
      "name": "python3",
      "display_name": "Python 3"
    }
  },
  "cells": [
    {
      "cell_type": "code",
      "metadata": {
        "id": "T4OgEQHF7viq"
      },
      "source": [
        "import io\n",
        "import requests\n",
        "import json\n",
        "import xml.dom.minidom as mdom"
      ],
      "execution_count": 1,
      "outputs": []
    },
    {
      "cell_type": "code",
      "metadata": {
        "id": "4MusoTwi8MdD"
      },
      "source": [
        "# It returns a list of N countries in dimension N x  \n",
        "# GDB PPP per capita, Gini, HDI\n",
        "def getDataByCountry(countriesList):\n",
        "  out = []\n",
        "  notFound = []\n",
        "  for i in countriesList:\n",
        "    try:\n",
        "      url = 'http://dbpedia.org/data/' + str(i) +  '.jsod'\n",
        "      js = requests.get(url).json()\n",
        "      gini = js['d']['results'][0]['http://dbpedia.org/property/gini']\n",
        "      gdbPppPerCapita = round(float(js['d']['results'][0]['http://dbpedia.org/property/gdpPppPerCapita']))\n",
        "      hdi = js['d']['results'][0]['http://dbpedia.org/property/hdi']\n",
        "      out.append({'country': i,\n",
        "                  'gdbPPPperCapita': gdbPppPerCapita,\n",
        "                  'gini': round(float(gini)*10),\n",
        "                  'hdi': round(float(hdi)*1000)})\n",
        "    except:\n",
        "      print('We were not able to get %s!' %(i))\n",
        "      notFound.append(i)\n",
        "  return out, notFound"
      ],
      "execution_count": 2,
      "outputs": []
    },
    {
      "cell_type": "code",
      "metadata": {
        "id": "KN3Rl3W48Mq0"
      },
      "source": [
        "def XMLsearchData(countriesList):\n",
        "  out = []\n",
        "  for country in countriesList:\n",
        "    url = 'http://dbpedia.org/data/' + str(country) + '.atom'\n",
        "    try:\n",
        "      xml = mdom.parseString(requests.get(url).content)\n",
        "      out.append({\n",
        "      'country': country,\n",
        "      'gini': round(float(xml.getElementsByTagName('dbp:gini')[0].firstChild.nodeValue)*10),\n",
        "      'gdbPPPperCapita': round(float(xml.getElementsByTagName('dbp:gdpPppPerCapita')[0].firstChild.nodeValue)),\n",
        "      'hdi': round(float(xml.getElementsByTagName('dbp:hdi')[0].firstChild.nodeValue)*1000)\n",
        "      })\n",
        "    except:\n",
        "      print(country + ' not Found')\n",
        "  return out"
      ],
      "execution_count": 3,
      "outputs": []
    },
    {
      "cell_type": "code",
      "metadata": {
        "id": "JHtPvLs7Fv2-"
      },
      "source": [
        "# Get list of countries used in WHO dataset\n",
        "def getCountriesList():\n",
        "  countriesList = []\n",
        "  url = 'https://apps.who.int/gho/athena/api/GHO/HIV_0000000026?format=json'\n",
        "  js = requests.get(url).json()\n",
        "  for i in range(170):  \n",
        "    newCountry = js['dimension'][4]['code'][i]['display'].split('(')[0].replace(' ', '_')\n",
        "    if newCountry[len(newCountry) - 1] == '_': \n",
        "      countriesList.append(newCountry[:-1])\n",
        "    else:\n",
        "      countriesList.append(newCountry)\n",
        "  return countriesList"
      ],
      "execution_count": 4,
      "outputs": []
    },
    {
      "cell_type": "code",
      "metadata": {
        "id": "2gGBMwsw8Miq",
        "outputId": "2daf45b7-dc71-436a-fb33-965068bfe3fd",
        "colab": {
          "base_uri": "https://localhost:8080/"
        }
      },
      "source": [
        "countriesList = getCountriesList();\n",
        "info, notFound = getDataByCountry(countriesList);"
      ],
      "execution_count": 5,
      "outputs": [
        {
          "output_type": "stream",
          "text": [
            "We were not able to get Afghanistan!\n",
            "We were not able to get Albania!\n",
            "We were not able to get Bahamas!\n",
            "We were not able to get Bahrain!\n",
            "We were not able to get Barbados!\n",
            "We were not able to get Belgium!\n",
            "We were not able to get Belize!\n",
            "We were not able to get Botswana!\n",
            "We were not able to get Brunei_Darussalam!\n",
            "We were not able to get Canada!\n",
            "We were not able to get Cabo_Verde!\n",
            "We were not able to get Central_African_Republic!\n",
            "We were not able to get Chad!\n",
            "We were not able to get Congo!\n",
            "We were not able to get Czechia!\n",
            "We were not able to get Côte_d'Ivoire!\n",
            "We were not able to get Democratic_People's_Republic_of_Korea!\n",
            "We were not able to get Djibouti!\n",
            "We were not able to get Ecuador!\n",
            "We were not able to get Equatorial_Guinea!\n",
            "We were not able to get Eritrea!\n",
            "We were not able to get Ethiopia!\n",
            "We were not able to get Fiji!\n",
            "We were not able to get Gambia!\n",
            "We were not able to get Georgia!\n",
            "We were not able to get Guinea-Bissau!\n",
            "We were not able to get Guyana!\n",
            "We were not able to get Ireland!\n",
            "We were not able to get Israel!\n",
            "We were not able to get Japan!\n",
            "We were not able to get Kuwait!\n",
            "We were not able to get Lao_People's_Democratic_Republic!\n",
            "We were not able to get Lebanon!\n",
            "We were not able to get Lesotho!\n",
            "We were not able to get Libya!\n",
            "We were not able to get Malawi!\n",
            "We were not able to get Malaysia!\n",
            "We were not able to get Mongolia!\n",
            "We were not able to get Myanmar!\n",
            "We were not able to get Oman!\n",
            "We were not able to get Republic_of_Korea!\n",
            "We were not able to get Republic_of_Moldova!\n",
            "We were not able to get Russian_Federation!\n",
            "We were not able to get Saudi_Arabia!\n",
            "We were not able to get Somalia!\n",
            "We were not able to get Spain!\n",
            "We were not able to get Sudan!\n",
            "We were not able to get Eswatini!\n",
            "We were not able to get Syrian_Arab_Republic!\n",
            "We were not able to get North_Macedonia!\n",
            "We were not able to get Timor-Leste!\n",
            "We were not able to get Uganda!\n",
            "We were not able to get United_Kingdom_of_Great_Britain_and_Northern_Ireland!\n",
            "We were not able to get United_Republic_of_Tanzania!\n",
            "We were not able to get United_States_of_America!\n",
            "We were not able to get Uzbekistan!\n",
            "We were not able to get Viet_Nam!\n",
            "We were not able to get Yemen!\n"
          ],
          "name": "stdout"
        }
      ]
    },
    {
      "cell_type": "code",
      "metadata": {
        "id": "Tl8m1nc_8Ml4",
        "outputId": "632ed0d7-b98f-49b8-9225-0931523d8ac4",
        "colab": {
          "base_uri": "https://localhost:8080/"
        }
      },
      "source": [
        "print(len(info))\n"
      ],
      "execution_count": 6,
      "outputs": [
        {
          "output_type": "stream",
          "text": [
            "112\n"
          ],
          "name": "stdout"
        }
      ]
    },
    {
      "cell_type": "code",
      "metadata": {
        "id": "qYc_6AlVeozQ",
        "outputId": "d8c56a8d-d1ec-4255-e2a5-4900b2c940e7",
        "colab": {
          "base_uri": "https://localhost:8080/"
        }
      },
      "source": [
        "xmlResul = XMLsearchData(notFound)\n",
        "print(len(xmlResul))"
      ],
      "execution_count": 7,
      "outputs": [
        {
          "output_type": "stream",
          "text": [
            "Afghanistan not Found\n",
            "Bahamas not Found\n",
            "Bahrain not Found\n",
            "Barbados not Found\n",
            "Belgium not Found\n",
            "Belize not Found\n",
            "Botswana not Found\n",
            "Brunei_Darussalam not Found\n",
            "Canada not Found\n",
            "Cabo_Verde not Found\n",
            "Chad not Found\n",
            "Congo not Found\n",
            "Czechia not Found\n",
            "Côte_d'Ivoire not Found\n",
            "Democratic_People's_Republic_of_Korea not Found\n",
            "Equatorial_Guinea not Found\n",
            "Eritrea not Found\n",
            "Ethiopia not Found\n",
            "Gambia not Found\n",
            "Georgia not Found\n",
            "Guyana not Found\n",
            "Ireland not Found\n",
            "Japan not Found\n",
            "Kuwait not Found\n",
            "Lao_People's_Democratic_Republic not Found\n",
            "Lebanon not Found\n",
            "Libya not Found\n",
            "Malawi not Found\n",
            "Myanmar not Found\n",
            "Oman not Found\n",
            "Republic_of_Korea not Found\n",
            "Republic_of_Moldova not Found\n",
            "Russian_Federation not Found\n",
            "Saudi_Arabia not Found\n",
            "Somalia not Found\n",
            "Eswatini not Found\n",
            "Syrian_Arab_Republic not Found\n",
            "North_Macedonia not Found\n",
            "Timor-Leste not Found\n",
            "Uganda not Found\n",
            "United_Kingdom_of_Great_Britain_and_Northern_Ireland not Found\n",
            "United_Republic_of_Tanzania not Found\n",
            "United_States_of_America not Found\n",
            "Uzbekistan not Found\n",
            "Viet_Nam not Found\n",
            "Yemen not Found\n",
            "12\n"
          ],
          "name": "stdout"
        }
      ]
    },
    {
      "cell_type": "code",
      "metadata": {
        "id": "oxzw1zMhrVEa",
        "outputId": "9ebb96da-4eb6-409c-c97b-ddc311fd2908",
        "colab": {
          "base_uri": "https://localhost:8080/"
        }
      },
      "source": [
        "print('For a table created in the following order: country, gdb PPP per Capita, gini, hdi')\n",
        "for i in info:\n",
        "  country = i['country'].replace('_', ' ')\n",
        "  print(\"\"\"\\\n",
        "  INSERT INTO Pais VALUES('%s', %s, %s, %s);\\\n",
        "  \"\"\"%(country, i['gdbPPPperCapita'], i['gini'], i['hdi']))\n",
        "for i in xmlResul:\n",
        "  country = i['country'].replace('_', ' ')\n",
        "  print(\"\"\"\\\n",
        "  INSERT INTO Pais VALUES('%s', %s, %s, %s);\\\n",
        "  \"\"\"%(country, i['gdbPPPperCapita'], i['gini'], i['hdi']))"
      ],
      "execution_count": 8,
      "outputs": [
        {
          "output_type": "stream",
          "text": [
            "For a table created in the following order: country, gdb PPP per Capita, gini, hdi\n",
            "  INSERT INTO Pais VALUES('Algeria', 14610, 353, 736);  \n",
            "  INSERT INTO Pais VALUES('Angola', 7501, 427, 532);  \n",
            "  INSERT INTO Pais VALUES('Argentina', 22554, 423, 836);  \n",
            "  INSERT INTO Pais VALUES('Armenia', 8468, 315, 733);  \n",
            "  INSERT INTO Pais VALUES('Australia', 47318, 336, 935);  \n",
            "  INSERT INTO Pais VALUES('Austria', 48098, 276, 885);  \n",
            "  INSERT INTO Pais VALUES('Azerbaijan', 17500, 337, 751);  \n",
            "  INSERT INTO Pais VALUES('Bangladesh', 3581, 321, 570);  \n",
            "  INSERT INTO Pais VALUES('Belarus', 17440, 265, 798);  \n",
            "  INSERT INTO Pais VALUES('Benin', 2025, 365, 480);  \n",
            "  INSERT INTO Pais VALUES('Bhutan', 8196, 387, 605);  \n",
            "  INSERT INTO Pais VALUES('Bolivia', 6650, 466, 662);  \n",
            "  INSERT INTO Pais VALUES('Bosnia and Herzegovina', 11647, 362, 733);  \n",
            "  INSERT INTO Pais VALUES('Brazil', 15048, 519, 755);  \n",
            "  INSERT INTO Pais VALUES('Bulgaria', 19839, 370, 782);  \n",
            "  INSERT INTO Pais VALUES('Burkina Faso', 1777, 395, 402);  \n",
            "  INSERT INTO Pais VALUES('Burundi', 834, 330, 400);  \n",
            "  INSERT INTO Pais VALUES('Cambodia', 3476, 318, 555);  \n",
            "  INSERT INTO Pais VALUES('Cameroon', 3246, 446, 512);  \n",
            "  INSERT INTO Pais VALUES('Chile', 25415, 503, 832);  \n",
            "  INSERT INTO Pais VALUES('China', 15095, 462, 727);  \n",
            "  INSERT INTO Pais VALUES('Colombia', 14171, 522, 720);  \n",
            "  INSERT INTO Pais VALUES('Comoros', 1523, 643, 503);  \n",
            "  INSERT INTO Pais VALUES('Costa Rica', 15365, 407, 766);  \n",
            "  INSERT INTO Pais VALUES('Croatia', 23171, 302, 818);  \n",
            "  INSERT INTO Pais VALUES('Cuba', 20649, 380, 769);  \n",
            "  INSERT INTO Pais VALUES('Cyprus', 30882, 291, 850);  \n",
            "  INSERT INTO Pais VALUES('Democratic Republic of the Congo', 816, 444, 433);  \n",
            "  INSERT INTO Pais VALUES('Denmark', 46976, 275, 923);  \n",
            "  INSERT INTO Pais VALUES('Dominican Republic', 15777, 471, 715);  \n",
            "  INSERT INTO Pais VALUES('Egypt', 11849, 308, 690);  \n",
            "  INSERT INTO Pais VALUES('El Salvador', 8668, 435, 686);  \n",
            "  INSERT INTO Pais VALUES('Estonia', 29501, 329, 861);  \n",
            "  INSERT INTO Pais VALUES('Finland', 42654, 256, 883);  \n",
            "  INSERT INTO Pais VALUES('France', 41181, 301, 888);  \n",
            "  INSERT INTO Pais VALUES('Gabon', 22400, 415, 684);  \n",
            "  INSERT INTO Pais VALUES('Germany', 47033, 307, 916);  \n",
            "  INSERT INTO Pais VALUES('Ghana', 4390, 428, 579);  \n",
            "  INSERT INTO Pais VALUES('Greece', 26606, 342, 865);  \n",
            "  INSERT INTO Pais VALUES('Guatemala', 7680, 551, 627);  \n",
            "  INSERT INTO Pais VALUES('Guinea', 1281, 703, 412);  \n",
            "  INSERT INTO Pais VALUES('Haiti', 1849, 608, 483);  \n",
            "  INSERT INTO Pais VALUES('Honduras', 4959, 553, 606);  \n",
            "  INSERT INTO Pais VALUES('Hungary', 26941, 279, 828);  \n",
            "  INSERT INTO Pais VALUES('Iceland', 44575, 240, 899);  \n",
            "  INSERT INTO Pais VALUES('India', 6664, 339, 609);  \n",
            "  INSERT INTO Pais VALUES('Indonesia', 11633, 356, 684);  \n",
            "  INSERT INTO Pais VALUES('Iran', 12833, 374, 766);  \n",
            "  INSERT INTO Pais VALUES('Italy', 36191, 327, 873);  \n",
            "  INSERT INTO Pais VALUES('Jamaica', 8991, 455, 719);  \n",
            "  INSERT INTO Pais VALUES('Jordan', 12162, 354, 748);  \n",
            "  INSERT INTO Pais VALUES('Kazakhstan', 24143, 264, 788);  \n",
            "  INSERT INTO Pais VALUES('Kenya', 3245, 425, 548);  \n",
            "  INSERT INTO Pais VALUES('Kyrgyzstan', 3363, 274, 655);  \n",
            "  INSERT INTO Pais VALUES('Latvia', 25740, 352, 819);  \n",
            "  INSERT INTO Pais VALUES('Liberia', 881, 382, 430);  \n",
            "  INSERT INTO Pais VALUES('Lithuania', 29881, 379, 839);  \n",
            "  INSERT INTO Pais VALUES('Luxembourg', 100991, 287, 892);  \n",
            "  INSERT INTO Pais VALUES('Madagascar', 1510, 441, 510);  \n",
            "  INSERT INTO Pais VALUES('Maldives', 13954, 374, 706);  \n",
            "  INSERT INTO Pais VALUES('Mali', 1843, 330, 407);  \n",
            "  INSERT INTO Pais VALUES('Malta', 33215, 277, 839);  \n",
            "  INSERT INTO Pais VALUES('Mauritania', 4287, 405, 506);  \n",
            "  INSERT INTO Pais VALUES('Mauritius', 18728, 359, 777);  \n",
            "  INSERT INTO Pais VALUES('Mexico', 18857, 481, 756);  \n",
            "  INSERT INTO Pais VALUES('Morocco', 8194, 409, 628);  \n",
            "  INSERT INTO Pais VALUES('Mozambique', 1327, 457, 416);  \n",
            "  INSERT INTO Pais VALUES('Namibia', 11786, 597, 628);  \n",
            "  INSERT INTO Pais VALUES('Nepal', 2573, 328, 548);  \n",
            "  INSERT INTO Pais VALUES('Netherlands', 50339, 262, 922);  \n",
            "  INSERT INTO Pais VALUES('New Zealand', 36950, 330, 913);  \n",
            "  INSERT INTO Pais VALUES('Nicaragua', 4972, 457, 631);  \n",
            "  INSERT INTO Pais VALUES('Niger', 1111, 315, 348);  \n",
            "  INSERT INTO Pais VALUES('Nigeria', 6351, 430, 514);  \n",
            "  INSERT INTO Pais VALUES('Norway', 70066, 235, 944);  \n",
            "  INSERT INTO Pais VALUES('Pakistan', 5084, 300, 538);  \n",
            "  INSERT INTO Pais VALUES('Panama', 20512, 519, 780);  \n",
            "  INSERT INTO Pais VALUES('Papua New Guinea', 2834, 509, 505);  \n",
            "  INSERT INTO Pais VALUES('Paraguay', 8905, 482, 679);  \n",
            "  INSERT INTO Pais VALUES('Peru', 12638, 447, 734);  \n",
            "  INSERT INTO Pais VALUES('Philippines', 7612, 460, 668);  \n",
            "  INSERT INTO Pais VALUES('Poland', 27654, 327, 843);  \n",
            "  INSERT INTO Pais VALUES('Portugal', 28476, 342, 830);  \n",
            "  INSERT INTO Pais VALUES('Qatar', 145894, 411, 850);  \n",
            "  INSERT INTO Pais VALUES('Romania', 22319, 340, 793);  \n",
            "  INSERT INTO Pais VALUES('Rwanda', 1784, 513, 483);  \n",
            "  INSERT INTO Pais VALUES('Senegal', 2525, 403, 485);  \n",
            "  INSERT INTO Pais VALUES('Serbia', 14938, 380, 771);  \n",
            "  INSERT INTO Pais VALUES('Sierra Leone', 1534, 354, 413);  \n",
            "  INSERT INTO Pais VALUES('Singapore', 82762, 464, 912);  \n",
            "  INSERT INTO Pais VALUES('Slovakia', 29209, 261, 844);  \n",
            "  INSERT INTO Pais VALUES('Slovenia', 32027, 250, 880);  \n",
            "  INSERT INTO Pais VALUES('South Africa', 13321, 631, 666);  \n",
            "  INSERT INTO Pais VALUES('Sri Lanka', 11189, 364, 757);  \n",
            "  INSERT INTO Pais VALUES('Suriname', 16623, 529, 714);  \n",
            "  INSERT INTO Pais VALUES('Sweden', 47319, 254, 907);  \n",
            "  INSERT INTO Pais VALUES('Switzerland', 59150, 285, 930);  \n",
            "  INSERT INTO Pais VALUES('Tajikistan', 2247, 308, 624);  \n",
            "  INSERT INTO Pais VALUES('Thailand', 16706, 394, 726);  \n",
            "  INSERT INTO Pais VALUES('Togo', 1567, 460, 473);  \n",
            "  INSERT INTO Pais VALUES('Trinidad and Tobago', 32432, 390, 772);  \n",
            "  INSERT INTO Pais VALUES('Tunisia', 11651, 361, 721);  \n",
            "  INSERT INTO Pais VALUES('Turkey', 21198, 400, 761);  \n",
            "  INSERT INTO Pais VALUES('Turkmenistan', 17072, 408, 688);  \n",
            "  INSERT INTO Pais VALUES('Ukraine', 8230, 246, 747);  \n",
            "  INSERT INTO Pais VALUES('United Arab Emirates', 67616, 360, 835);  \n",
            "  INSERT INTO Pais VALUES('Uruguay', 21944, 419, 793);  \n",
            "  INSERT INTO Pais VALUES('Venezuela', 15251, 448, 762);  \n",
            "  INSERT INTO Pais VALUES('Zambia', 3917, 575, 586);  \n",
            "  INSERT INTO Pais VALUES('Zimbabwe', 2133, 501, 509);  \n",
            "  INSERT INTO Pais VALUES('Montenegro', 16654, 262, 802);  \n",
            "  INSERT INTO Pais VALUES('South Sudan', 1886, 455, 467);  \n",
            "  INSERT INTO Pais VALUES('Albania', 12484, 345, 733);  \n",
            "  INSERT INTO Pais VALUES('Central African Republic', 668, 563, 350);  \n",
            "  INSERT INTO Pais VALUES('Djibouti', 3351, 400, 470);  \n",
            "  INSERT INTO Pais VALUES('Ecuador', 11788, 466, 732);  \n",
            "  INSERT INTO Pais VALUES('Fiji', 9314, 428, 727);  \n",
            "  INSERT INTO Pais VALUES('Guinea-Bissau', 1561, 350, 396);  \n",
            "  INSERT INTO Pais VALUES('Israel', 34336, 428, 894);  \n",
            "  INSERT INTO Pais VALUES('Lesotho', 3133, 542, 486);  \n",
            "  INSERT INTO Pais VALUES('Malaysia', 25833, 462, 779);  \n",
            "  INSERT INTO Pais VALUES('Mongolia', 11024, 365, 727);  \n",
            "  INSERT INTO Pais VALUES('Spain', 36143, 337, 876);  \n",
            "  INSERT INTO Pais VALUES('Sudan', 4834, 353, 473);  \n"
          ],
          "name": "stdout"
        }
      ]
    },
    {
      "cell_type": "code",
      "metadata": {
        "id": "he8tXXL5rVHN"
      },
      "source": [
        ""
      ],
      "execution_count": 8,
      "outputs": []
    },
    {
      "cell_type": "code",
      "metadata": {
        "id": "0un7Z1OYrVLv"
      },
      "source": [
        ""
      ],
      "execution_count": 8,
      "outputs": []
    },
    {
      "cell_type": "code",
      "metadata": {
        "id": "Q-Ini-yRrVCb"
      },
      "source": [
        ""
      ],
      "execution_count": 9,
      "outputs": []
    }
  ]
}