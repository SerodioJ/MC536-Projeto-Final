{
 "cells": [
  {
   "cell_type": "code",
   "execution_count": 1,
   "metadata": {},
   "outputs": [],
   "source": [
    "%defaultDatasource jdbc:h2:mem:db"
   ]
  },
  {
   "cell_type": "code",
   "execution_count": 2,
   "metadata": {},
   "outputs": [],
   "source": [
    "DROP TABLE IF EXISTS Pais;\n",
    "\n",
    "CREATE TABLE Pais (\n",
    "  nome VARCHAR(60),            -- eliminar ambiguidade!\n",
    "  sigla VARCHAR(3) NOT NULL,\n",
    "  regiao VARCHAR(30),\n",
    "  classificacaoRenda VARCHAR(30),\n",
    "  Gini INTEGER,\n",
    "  PIBperCapita DOUBLE,\n",
    "  IDH INTEGER,\n",
    "  populacao INTEGER,\n",
    "  PRIMARY KEY(sigla)\n",
    ") AS SELECT\n",
    "    country,\n",
    "    label,\n",
    "    region,\n",
    "    wb_class,\n",
    "    gini,\n",
    "    gdbPPPperCapita,\n",
    "    hdi,\n",
    "    populationTotal\n",
    "FROM CSVREAD('../../../data/Filtered Data/countries.csv');\n",
    "\n",
    "DROP TABLE IF EXISTS DST;\n",
    "CREATE TABLE DST (\n",
    "  regiao VARCHAR(30),\n",
    "  ano INTEGER,\n",
    "  quantidade DOUBLE,\n",
    "  PRIMARY KEY(regiao, ano)\n",
    ") AS SELECT\n",
    "    region,\n",
    "    year,\n",
    "    nominal\n",
    "FROM CSVREAD('../../../data/Filtered Data/infections.csv');"
   ]
  },
  {
   "cell_type": "code",
   "execution_count": 3,
   "metadata": {},
   "outputs": [
    {
     "data": {
      "application/vnd.jupyter.widget-view+json": {
       "model_id": "b9699e65-74fb-4ca4-bfe5-48f4cd02e4bd",
       "version_major": 2,
       "version_minor": 0
      },
      "method": "display_data"
     },
     "metadata": {},
     "output_type": "display_data"
    },
    {
     "data": {
      "application/vnd.jupyter.widget-view+json": {
       "model_id": "9faab6e9-48bc-4817-8d32-f0bcb517d62c",
       "version_major": 2,
       "version_minor": 0
      },
      "method": "display_data"
     },
     "metadata": {},
     "output_type": "display_data"
    }
   ],
   "source": [
    "SELECT TOP 3 * FROM Pais;\n",
    "SELECT TOP 3 * FROM DST;"
   ]
  },
  {
   "cell_type": "code",
   "execution_count": 4,
   "metadata": {},
   "outputs": [
    {
     "data": {
      "application/vnd.jupyter.widget-view+json": {
       "model_id": "80576335-78fa-4db6-bf75-718a3eb46465",
       "version_major": 2,
       "version_minor": 0
      },
      "method": "display_data"
     },
     "metadata": {},
     "output_type": "display_data"
    },
    {
     "data": {
      "application/vnd.jupyter.widget-view+json": {
       "model_id": "6496393a-d224-4a49-b24b-8cbcade59508",
       "version_major": 2,
       "version_minor": 0
      },
      "method": "display_data"
     },
     "metadata": {},
     "output_type": "display_data"
    }
   ],
   "source": [
    "CREATE VIEW RegiaoxInfeccoes AS\n",
    "SELECT DP.ano, P.regiao, \n",
    "       CAST(SUM(DP.quantidade) AS DOUBLE) / CAST(SUM(DG.quantidade) AS DOUBLE)*100.0 Infeccoes\n",
    "FROM Pais P, DST DP, DST DG\n",
    "WHERE P.sigla = DP.regiao \n",
    "      AND DG.ano = DP.ano \n",
    "      AND DP.quantidade IS NOT NULL\n",
    "GROUP BY P.regiao, DP.ano\n",
    "ORDER BY DP.ano,\n",
    "         P.regiao;\n",
    "\n",
    "SELECT * FROM RegiaoxInfeccoes;\n",
    "\n",
    "CALL CSVWRITE('../../saida/regiao-x-infeccoes.csv', 'SELECT * FROM RegiaoxInfeccoes');"
   ]
  },
  {
   "cell_type": "code",
   "execution_count": null,
   "metadata": {},
   "outputs": [],
   "source": []
  },
  {
   "cell_type": "code",
   "execution_count": null,
   "metadata": {},
   "outputs": [],
   "source": []
  }
 ],
 "metadata": {
  "kernelspec": {
   "display_name": "SQL",
   "language": "SQL",
   "name": "sql"
  },
  "language_info": {
   "codemirror_mode": "sql",
   "file_extension": ".sql",
   "mimetype": "",
   "name": "SQL",
   "nbconverter_exporter": "",
   "version": ""
  },
  "toc": {
   "base_numbering": 1,
   "nav_menu": {},
   "number_sections": false,
   "sideBar": false,
   "skip_h1_title": false,
   "title_cell": "Table of Contents",
   "title_sidebar": "Contents",
   "toc_cell": false,
   "toc_position": {},
   "toc_section_display": false,
   "toc_window_display": false
  }
 },
 "nbformat": 4,
 "nbformat_minor": 4
}
