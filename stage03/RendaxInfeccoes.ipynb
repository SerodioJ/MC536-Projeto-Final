{
 "cells": [
  {
   "cell_type": "code",
   "execution_count": 1,
   "metadata": {},
   "outputs": [],
   "source": [
    "%defaultDatasource jdbc:h2:mem:db"
   ]
  },
  {
   "cell_type": "code",
   "execution_count": 2,
   "metadata": {},
   "outputs": [],
   "source": [
    "DROP TABLE IF EXISTS Pais;\n",
    "\n",
    "CREATE TABLE Pais (\n",
    "  nome VARCHAR(60),            -- eliminar ambiguidade!\n",
    "  sigla VARCHAR(3) NOT NULL,\n",
    "  regiao VARCHAR(30),\n",
    "  classificacaoRenda VARCHAR(30),\n",
    "  Gini INTEGER,\n",
    "  PIBperCapita INTEGER,\n",
    "  IDH INTEGER,\n",
    "  populacao INTEGER,\n",
    "  PRIMARY KEY(sigla)\n",
    ") AS SELECT\n",
    "    country,\n",
    "    label,\n",
    "    region,\n",
    "    wb_class,\n",
    "    gini,\n",
    "    gdbPPPperCapita,\n",
    "    hdi,\n",
    "    populationTotal\n",
    "FROM CSVREAD('../data/Filtered Data/countries.csv');\n",
    "\n",
    "CREATE TABLE DST (\n",
    "  regiao VARCHAR(30),\n",
    "  ano INTEGER,\n",
    "  quantidade DOUBLE,\n",
    "  PRIMARY KEY(regiao, ano)\n",
    ") AS SELECT\n",
    "    region,\n",
    "    year,\n",
    "    nominal\n",
    "FROM CSVREAD('../data/Filtered Data/infections.csv');"
   ]
  },
  {
   "cell_type": "code",
   "execution_count": 3,
   "metadata": {},
   "outputs": [
    {
     "data": {
      "application/vnd.jupyter.widget-view+json": {
       "model_id": "503e7ab3-da85-4b6f-a750-c16e3af3c782",
       "version_major": 2,
       "version_minor": 0
      },
      "method": "display_data"
     },
     "metadata": {},
     "output_type": "display_data"
    },
    {
     "data": {
      "application/vnd.jupyter.widget-view+json": {
       "model_id": "a47e2ba0-d600-4df5-ba51-64a6aae84d14",
       "version_major": 2,
       "version_minor": 0
      },
      "method": "display_data"
     },
     "metadata": {},
     "output_type": "display_data"
    }
   ],
   "source": [
    "SELECT * FROM Pais;\n",
    "SELECT * FROM DST;"
   ]
  },
  {
   "cell_type": "code",
   "execution_count": 4,
   "metadata": {},
   "outputs": [
    {
     "data": {
      "application/vnd.jupyter.widget-view+json": {
       "model_id": "92624086-0813-441e-adc8-edfcd03226ee",
       "version_major": 2,
       "version_minor": 0
      },
      "method": "display_data"
     },
     "metadata": {},
     "output_type": "display_data"
    }
   ],
   "source": [
    "SELECT D.ano, P.classificacaoRenda, CAST(SUM(D.quantidade) AS DOUBLE) / CAST(SUM(P.populacao) AS DOUBLE) taxaInfeccoes\n",
    "FROM Pais P, DST D\n",
    "WHERE P.sigla = D.regiao AND P.populacao IS NOT NULL \n",
    "GROUP BY D.ano, P.classificacaoRenda\n",
    "ORDER BY TaxaInfeccoes DESC"
   ]
  },
  {
   "cell_type": "code",
   "execution_count": 5,
   "metadata": {},
   "outputs": [
    {
     "data": {
      "application/vnd.jupyter.widget-view+json": {
       "model_id": "c6f2e057-9b3b-4d32-a1b3-7143f4bb056d",
       "version_major": 2,
       "version_minor": 0
      },
      "method": "display_data"
     },
     "metadata": {},
     "output_type": "display_data"
    }
   ],
   "source": [
    "SELECT * \n",
    "FROM PAIS\n",
    "WHERE POPULACAO IS NOT NULL"
   ]
  },
  {
   "cell_type": "code",
   "execution_count": 6,
   "metadata": {},
   "outputs": [
    {
     "data": {
      "application/vnd.jupyter.widget-view+json": {
       "model_id": "acaadb4c-df4d-4259-9839-68edef6f6b87",
       "version_major": 2,
       "version_minor": 0
      },
      "method": "display_data"
     },
     "metadata": {},
     "output_type": "display_data"
    },
    {
     "data": {
      "application/vnd.jupyter.widget-view+json": {
       "model_id": "ef8ae541-b53a-4bab-942b-b5da3cc7ae3a",
       "version_major": 2,
       "version_minor": 0
      },
      "method": "display_data"
     },
     "metadata": {},
     "output_type": "display_data"
    }
   ],
   "source": [
    "SELECT TOP 3 * FROM PAIS;\n",
    "SELECT TOP 3 * FROM DST;"
   ]
  },
  {
   "cell_type": "code",
   "execution_count": 16,
   "metadata": {},
   "outputs": [],
   "source": [
    "CREATE VIEW tabelaInicial AS\n",
    "SELECT D.ano, CAST(P.gini AS DOUBLE) / 1000.0 AS gini, \n",
    "       P.PIBperCapita, \n",
    "       CAST(D.quantidade AS DOUBLE) / CAST(P.populacao AS DOUBLE) taxaInfeccoes\n",
    "FROM Pais P, DST D\n",
    "WHERE P.sigla = D.regiao AND P.gini IS NOT NULL\n",
    "      AND P.PIBperCapita IS NOT NULL \n",
    "      AND P.populacao IS NOT NULL\n",
    "ORDER BY D.ano, gini, P.PIBperCapita"
   ]
  },
  {
   "cell_type": "code",
   "execution_count": 20,
   "metadata": {},
   "outputs": [],
   "source": [
    "CREATE VIEW parNormInfeccoes AS\n",
    "SELECT ano, \n",
    "       MIN(taxaInfeccoes) minInf, \n",
    "       MAX(taxaInfeccoes) maxInf\n",
    "FROM tabelaInicial\n",
    "GROUP BY ano\n",
    "ORDER BY ano"
   ]
  },
  {
   "cell_type": "code",
   "execution_count": 23,
   "metadata": {},
   "outputs": [],
   "source": [
    "CREATE VIEW parNormPibGini AS\n",
    "SELECT MIN(pibpercapita) minPib, \n",
    "       MAX(pibpercapita) maxPib,\n",
    "       MIN(1.0 - gini) minConvGini,\n",
    "       MAX(1.0 - gini) maxConvGini\n",
    "FROM tabelaInicial"
   ]
  },
  {
   "cell_type": "code",
   "execution_count": 25,
   "metadata": {},
   "outputs": [
    {
     "data": {
      "application/vnd.jupyter.widget-view+json": {
       "model_id": "2a55f6c6-6657-4ae9-8a72-6386255da202",
       "version_major": 2,
       "version_minor": 0
      },
      "method": "display_data"
     },
     "metadata": {},
     "output_type": "display_data"
    }
   ],
   "source": [
    "SELECT T.ano, \n",
    "       (1.0 - T.gini - PNPG.minConvGini)/(PNPG.maxConvGini - PNPG.minConvGini) Corr_Gini,\n",
    "       CAST(T.pibpercapita - PNPG.minpib AS DOUBLE) / CAST(PNPG.maxpib - PNPG.minpib AS DOUBLE) Norm_PIB,\n",
    "       (T.taxaInfeccoes - PNI.minInf)/(PNI.maxInf-PNI.minInf) Norm_infeccoes\n",
    "FROM tabelaInicial T, parNormInfeccoes PNI, parNormPibGini PNPG\n",
    "WHERE T.ano = PNI.ano\n",
    "ORDER BY ano, corr_gini, norm_pib"
   ]
  },
  {
   "cell_type": "code",
   "execution_count": null,
   "metadata": {},
   "outputs": [],
   "source": []
  },
  {
   "cell_type": "code",
   "execution_count": null,
   "metadata": {},
   "outputs": [],
   "source": []
  },
  {
   "cell_type": "code",
   "execution_count": null,
   "metadata": {},
   "outputs": [],
   "source": []
  },
  {
   "cell_type": "code",
   "execution_count": null,
   "metadata": {},
   "outputs": [],
   "source": []
  },
  {
   "cell_type": "code",
   "execution_count": null,
   "metadata": {},
   "outputs": [],
   "source": []
  },
  {
   "cell_type": "code",
   "execution_count": null,
   "metadata": {},
   "outputs": [],
   "source": []
  },
  {
   "cell_type": "code",
   "execution_count": null,
   "metadata": {},
   "outputs": [],
   "source": []
  },
  {
   "cell_type": "code",
   "execution_count": null,
   "metadata": {},
   "outputs": [],
   "source": []
  },
  {
   "cell_type": "code",
   "execution_count": null,
   "metadata": {},
   "outputs": [],
   "source": []
  },
  {
   "cell_type": "code",
   "execution_count": null,
   "metadata": {},
   "outputs": [],
   "source": []
  }
 ],
 "metadata": {
  "kernelspec": {
   "display_name": "SQL",
   "language": "SQL",
   "name": "sql"
  },
  "language_info": {
   "codemirror_mode": "sql",
   "file_extension": ".sql",
   "mimetype": "",
   "name": "SQL",
   "nbconverter_exporter": "",
   "version": ""
  },
  "toc": {
   "base_numbering": 1,
   "nav_menu": {},
   "number_sections": false,
   "sideBar": false,
   "skip_h1_title": false,
   "title_cell": "Table of Contents",
   "title_sidebar": "Contents",
   "toc_cell": false,
   "toc_position": {},
   "toc_section_display": false,
   "toc_window_display": false
  }
 },
 "nbformat": 4,
 "nbformat_minor": 4
}
