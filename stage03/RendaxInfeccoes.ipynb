{
 "cells": [
  {
   "cell_type": "code",
   "execution_count": 1,
   "metadata": {},
   "outputs": [],
   "source": [
    "%defaultDatasource jdbc:h2:mem:db"
   ]
  },
  {
   "cell_type": "code",
   "execution_count": 2,
   "metadata": {},
   "outputs": [],
   "source": [
    "DROP TABLE IF EXISTS Pais;\n",
    "\n",
    "CREATE TABLE Pais (\n",
    "  nome VARCHAR(60),            -- eliminar ambiguidade!\n",
    "  sigla VARCHAR(3) NOT NULL,\n",
    "  regiao VARCHAR(30),\n",
    "  classificacaoRenda VARCHAR(30),\n",
    "  Gini INTEGER,\n",
    "  PIBperCapita INTEGER,\n",
    "  IDH INTEGER,\n",
    "  populacao INTEGER,\n",
    "  PRIMARY KEY(sigla)\n",
    ") AS SELECT\n",
    "    country,\n",
    "    label,\n",
    "    region,\n",
    "    wb_class,\n",
    "    gini,\n",
    "    gdbPPPperCapita,\n",
    "    hdi,\n",
    "    populationTotal\n",
    "FROM CSVREAD('../data/Filtered Data/countries.csv');\n",
    "\n",
    "CREATE TABLE DST (\n",
    "  regiao VARCHAR(30),\n",
    "  ano INTEGER,\n",
    "  quantidade DOUBLE,\n",
    "  PRIMARY KEY(regiao, ano)\n",
    ") AS SELECT\n",
    "    region,\n",
    "    year,\n",
    "    nominal\n",
    "FROM CSVREAD('../data/Filtered Data/infections.csv');"
   ]
  },
  {
   "cell_type": "code",
   "execution_count": 3,
   "metadata": {},
   "outputs": [
    {
     "data": {
      "application/vnd.jupyter.widget-view+json": {
       "model_id": "aacf76d5-4e5b-4a45-9788-583ce6c5e69a",
       "version_major": 2,
       "version_minor": 0
      },
      "method": "display_data"
     },
     "metadata": {},
     "output_type": "display_data"
    },
    {
     "data": {
      "application/vnd.jupyter.widget-view+json": {
       "model_id": "14935f79-47ab-44f9-83c6-c0bed7b7b06f",
       "version_major": 2,
       "version_minor": 0
      },
      "method": "display_data"
     },
     "metadata": {},
     "output_type": "display_data"
    }
   ],
   "source": [
    "SELECT * FROM Pais;\n",
    "SELECT * FROM DST;"
   ]
  },
  {
   "cell_type": "code",
   "execution_count": 27,
   "metadata": {},
   "outputs": [
    {
     "data": {
      "application/vnd.jupyter.widget-view+json": {
       "model_id": "52890123-939d-4086-98b8-b7be28b986b5",
       "version_major": 2,
       "version_minor": 0
      },
      "method": "display_data"
     },
     "metadata": {},
     "output_type": "display_data"
    }
   ],
   "source": [
    "SELECT D.ano, P.classificacaoRenda, CAST(SUM(D.quantidade) AS DOUBLE) / CAST(SUM(P.populacao) AS DOUBLE) taxaInfeccoes\n",
    "FROM Pais P, DST D\n",
    "WHERE P.sigla = D.regiao AND P.populacao IS NOT NULL \n",
    "GROUP BY D.ano, P.classificacaoRenda\n",
    "ORDER BY TaxaInfeccoes DESC"
   ]
  },
  {
   "cell_type": "code",
   "execution_count": 20,
   "metadata": {},
   "outputs": [
    {
     "data": {
      "application/vnd.jupyter.widget-view+json": {
       "model_id": "1bf3dcd0-4feb-4f8c-b29c-d9e2cff913dc",
       "version_major": 2,
       "version_minor": 0
      },
      "method": "display_data"
     },
     "metadata": {},
     "output_type": "display_data"
    }
   ],
   "source": [
    "SELECT * \n",
    "FROM PAIS\n",
    "WHERE POPULACAO IS NOT NULL"
   ]
  },
  {
   "cell_type": "code",
   "execution_count": null,
   "metadata": {},
   "outputs": [],
   "source": []
  },
  {
   "cell_type": "code",
   "execution_count": null,
   "metadata": {},
   "outputs": [],
   "source": []
  },
  {
   "cell_type": "code",
   "execution_count": null,
   "metadata": {},
   "outputs": [],
   "source": []
  },
  {
   "cell_type": "code",
   "execution_count": null,
   "metadata": {},
   "outputs": [],
   "source": []
  },
  {
   "cell_type": "code",
   "execution_count": null,
   "metadata": {},
   "outputs": [],
   "source": []
  },
  {
   "cell_type": "code",
   "execution_count": null,
   "metadata": {},
   "outputs": [],
   "source": []
  },
  {
   "cell_type": "code",
   "execution_count": null,
   "metadata": {},
   "outputs": [],
   "source": []
  }
 ],
 "metadata": {
  "kernelspec": {
   "display_name": "SQL",
   "language": "SQL",
   "name": "sql"
  },
  "language_info": {
   "codemirror_mode": "sql",
   "file_extension": ".sql",
   "mimetype": "",
   "name": "SQL",
   "nbconverter_exporter": "",
   "version": ""
  },
  "toc": {
   "base_numbering": 1,
   "nav_menu": {},
   "number_sections": false,
   "sideBar": false,
   "skip_h1_title": false,
   "title_cell": "Table of Contents",
   "title_sidebar": "Contents",
   "toc_cell": false,
   "toc_position": {},
   "toc_section_display": false,
   "toc_window_display": false
  }
 },
 "nbformat": 4,
 "nbformat_minor": 4
}
